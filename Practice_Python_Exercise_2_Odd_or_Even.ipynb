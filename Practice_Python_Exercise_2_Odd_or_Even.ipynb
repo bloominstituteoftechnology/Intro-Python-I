{
  "nbformat": 4,
  "nbformat_minor": 0,
  "metadata": {
    "colab": {
      "name": "Practice Python Exercise 2 - Odd or Even.ipynb",
      "provenance": [],
      "collapsed_sections": [],
      "authorship_tag": "ABX9TyN0Hi2gHSUIwxBgbV3N+fYG",
      "include_colab_link": true
    },
    "kernelspec": {
      "name": "python3",
      "display_name": "Python 3"
    },
    "language_info": {
      "name": "python"
    }
  },
  "cells": [
    {
      "cell_type": "markdown",
      "metadata": {
        "id": "view-in-github",
        "colab_type": "text"
      },
      "source": [
        "<a href=\"https://colab.research.google.com/github/KryssyCo/Intro-Python-I/blob/master/Practice_Python_Exercise_2_Odd_or_Even.ipynb\" target=\"_parent\"><img src=\"https://colab.research.google.com/assets/colab-badge.svg\" alt=\"Open In Colab\"/></a>"
      ]
    },
    {
      "cell_type": "markdown",
      "source": [
        "Create a program that asks the user to enter their name and their age. Print out a message addressed to them that tells them the year that they will turn 100 years old. Note: for this exercise, the expectation is that you explicitly write out the year (and therefore be out of date the next year). If you want to do this in a generic way, see exercise 39.\n",
        "\n",
        "Extras:\n",
        "\n",
        "Add on to the previous program by asking the user for another number and printing out that many copies of the previous message. (Hint: order of operations exists in Python)\n",
        "Print out that many copies of the previous message on separate lines. (Hint: the string \"\\n is the same as pressing the ENTER button)\n",
        "\n",
        "https://www.practicepython.org/exercise/2014/01/29/01-character-input.html"
      ],
      "metadata": {
        "id": "vivgzYprvKrs"
      }
    },
    {
      "cell_type": "code",
      "source": [
        "import time"
      ],
      "metadata": {
        "id": "cM2LCVmKGHjw"
      },
      "execution_count": 87,
      "outputs": []
    },
    {
      "cell_type": "code",
      "source": [
        "print(\"Were\" + \"wolf\")\n",
        "print(\"Door\" + \"man\")\n",
        "print(\"4\" + \"chan\")\n",
        "print(str(4) + \"chan\")"
      ],
      "metadata": {
        "colab": {
          "base_uri": "https://localhost:8080/"
        },
        "id": "PGyA4UGPzm2l",
        "outputId": "20aa9e0e-ed0d-46c3-b254-aede5b5dabc6"
      },
      "execution_count": null,
      "outputs": [
        {
          "output_type": "stream",
          "name": "stdout",
          "text": [
            "Werewolf\n",
            "Doorman\n",
            "4chan\n",
            "4chan\n"
          ]
        }
      ]
    },
    {
      "cell_type": "code",
      "source": [
        "print(4 * \"test\")"
      ],
      "metadata": {
        "colab": {
          "base_uri": "https://localhost:8080/"
        },
        "id": "-KAa9iQLzuJB",
        "outputId": "af594e6c-2ce9-4cbb-e594-f367c4943b0d"
      },
      "execution_count": null,
      "outputs": [
        {
          "output_type": "stream",
          "name": "stdout",
          "text": [
            "testtesttesttest\n"
          ]
        }
      ]
    },
    {
      "cell_type": "code",
      "source": [
        "name = input(\"What is your name? \")\n",
        "age = int(input(\"How old are you? \"))\n",
        "yrs = 100 - int(age)\n",
        "Play_it_again_Sam = input(\"Enter a random number between 1 and 100: \")\n",
        "print(\"Nice to meet you \" + name)\n",
        "print(\"I see that you are \" + str(age) + \" years old.\")\n",
        "print(\"In \" + str(yrs) + \" years you will be 100!\" )\n"
      ],
      "metadata": {
        "colab": {
          "base_uri": "https://localhost:8080/"
        },
        "id": "YkvDVGAQ3Sr3",
        "outputId": "4a77f138-79ce-45d8-fcc8-228d3e6b3463"
      },
      "execution_count": 37,
      "outputs": [
        {
          "output_type": "stream",
          "name": "stdout",
          "text": [
            "What is your name? Shaun\n",
            "How old are you? 43\n",
            "Enter a random number between 1 and 100: 1\n",
            "Nice to meet you Shaun\n",
            "I see that you are 43 years old.\n",
            "In 57 years you will be 100!\n"
          ]
        }
      ]
    },
    {
      "cell_type": "code",
      "source": [
        "name = input(\"What is your name? \")\n",
        "age = int(input(\"How old are you? \"))\n",
        "yrs = 100 - int(age)\n",
        "print(\"Nice to meet you \" + name + \". I see that you are \" + str(age) + \" years old. In \" + str(yrs) + \" years you will be 100!\" )"
      ],
      "metadata": {
        "colab": {
          "base_uri": "https://localhost:8080/"
        },
        "id": "0Lu70gFr086v",
        "outputId": "d63388d8-a0c9-4b80-98d8-4145dc8f6a83"
      },
      "execution_count": 38,
      "outputs": [
        {
          "output_type": "stream",
          "name": "stdout",
          "text": [
            "What is your name? Devin\n",
            "How old are you? 21\n",
            "Nice to meet you Devin. I see that you are 21 years old. In 79 years you will be 100!\n"
          ]
        }
      ]
    },
    {
      "cell_type": "code",
      "source": [
        "name = input(\"What is your name? \")\n",
        "age = int(input(\"How old are you? \"))\n",
        "yrs = 100 - int(age)\n",
        "\n",
        "print(\"Nice to meet you \" + name + \". I see that you are \" + str(age) + \" years old. In \" + str(yrs) + \" years you will be 100!\" )\n",
        "\n",
        "\n"
      ],
      "metadata": {
        "colab": {
          "base_uri": "https://localhost:8080/"
        },
        "id": "iohv5dfB63P3",
        "outputId": "6b1d70ae-7b31-4e10-9148-2f010254c480"
      },
      "execution_count": 43,
      "outputs": [
        {
          "output_type": "stream",
          "name": "stdout",
          "text": [
            "What is your name? Krista\n",
            "How old are you? 21\n",
            "Nice to meet you Krista. I see that you are 21 years old. In 79 years you will be 100!\n"
          ]
        }
      ]
    },
    {
      "cell_type": "code",
      "source": [
        "name = input(\"What is your name? \")\n",
        "age = int(input(\"How old are you? \"))\n",
        "yrs = 100 - int(age)\n",
        "speech = print(\"Nice to meet you \" + name + \". I see that you are \" + str(age) + \" years old. In \" + str(yrs) + \" years you will be 100!\" )\n",
        "time.sleep(3)\n",
        "rando = int(input(\"Enter a random number: \"))\n",
        "print(rando * (\" Nice to meet you \" + name + \". I see that you are \" + str(age) + \" years old. In \" + str(yrs) + \" years you will be 100!\\n\"))\n",
        "\n",
        "\n",
        "\n",
        "\n"
      ],
      "metadata": {
        "colab": {
          "base_uri": "https://localhost:8080/"
        },
        "outputId": "cc1002c4-bce2-4445-d5e3-c59db10e6588",
        "id": "tDLnbsD19JQQ"
      },
      "execution_count": 88,
      "outputs": [
        {
          "output_type": "stream",
          "name": "stdout",
          "text": [
            "What is your name? Krista\n",
            "How old are you? 51\n",
            "Nice to meet you Krista. I see that you are 51 years old. In 49 years you will be 100!\n",
            "Enter a random number: 4\n",
            " Nice to meet you Krista. I see that you are 51 years old. In 49 years you will be 100!\n",
            " Nice to meet you Krista. I see that you are 51 years old. In 49 years you will be 100!\n",
            " Nice to meet you Krista. I see that you are 51 years old. In 49 years you will be 100!\n",
            " Nice to meet you Krista. I see that you are 51 years old. In 49 years you will be 100!\n",
            "\n"
          ]
        }
      ]
    }
  ]
}