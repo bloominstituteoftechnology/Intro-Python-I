{
 "cells": [
  {
   "cell_type": "markdown",
   "metadata": {},
   "source": [
    "### Module 1"
   ]
  },
  {
   "cell_type": "markdown",
   "metadata": {},
   "source": [
    "#### 00_hello.py"
   ]
  },
  {
   "cell_type": "code",
   "execution_count": 4,
   "metadata": {},
   "outputs": [
    {
     "name": "stdout",
     "output_type": "stream",
     "text": [
      "Hello, world!\n"
     ]
    }
   ],
   "source": [
    "# Print \"Hello, world!\" to your terminal\n",
    "\n",
    "print('Hello, world!')"
   ]
  },
  {
   "cell_type": "markdown",
   "metadata": {},
   "source": [
    "#### 01_bignum.py"
   ]
  },
  {
   "cell_type": "code",
   "execution_count": 7,
   "metadata": {},
   "outputs": [
    {
     "name": "stdout",
     "output_type": "stream",
     "text": [
      "131072\n"
     ]
    }
   ],
   "source": [
    "# Print out 2 to the 65536 power\n",
    "\n",
    "print(2*65536)"
   ]
  },
  {
   "cell_type": "markdown",
   "metadata": {},
   "source": [
    "#### 02_datatypes.py"
   ]
  },
  {
   "cell_type": "code",
   "execution_count": 10,
   "metadata": {},
   "outputs": [
    {
     "name": "stdout",
     "output_type": "stream",
     "text": [
      "12\n",
      "57\n"
     ]
    }
   ],
   "source": [
    "\"\"\"\n",
    "Python is a strongly-typed language under the hood, which means\n",
    "that the types of values matter, especially when we're trying\n",
    "to perform operations on them.\n",
    "\n",
    "Note that if you try running the following code without making any\n",
    "changes, you'll get a TypeError saying you can't perform an operation\n",
    "on a string and an integer.\n",
    "\"\"\"\n",
    "\n",
    "x = 5\n",
    "y = \"7\"\n",
    "\n",
    "# Write a print statement that combines x + y into the integer value 12\n",
    "\n",
    "print(int(y) + x)\n",
    "\n",
    "# Write a print statement that combines x + y into the string value 57\n",
    "\n",
    "print(str(x) + y)"
   ]
  },
  {
   "cell_type": "markdown",
   "metadata": {},
   "source": [
    "#### 03_modules.py"
   ]
  },
  {
   "cell_type": "code",
   "execution_count": 38,
   "metadata": {},
   "outputs": [
    {
     "name": "stdout",
     "output_type": "stream",
     "text": [
      "Operating System: win32\n",
      "Python: 3.7.6 (default, Jan  8 2020, 20:23:39) [MSC v.1916 64 bit (AMD64)]\n",
      "Process ID: 16684\n"
     ]
    }
   ],
   "source": [
    "\"\"\"\n",
    "In this exercise, you'll be playing around with the sys module,\n",
    "which allows you to access many system specific variables and\n",
    "methods, and the os module, which gives you access to lower-\n",
    "level operating system functionality.\n",
    "\"\"\"\n",
    "\n",
    "import sys\n",
    "# See docs for the sys module: https://docs.python.org/3.7/library/sys.html\n",
    "\n",
    "# Print out the command line arguments in sys.argv, one per line:\n",
    "# print(sys.argv)\n",
    "\n",
    "# Print out the OS platform you're using:\n",
    "print(f'Operating System: {sys.platform}')\n",
    "\n",
    "# Print out the version of Python you're using:\n",
    "print(f'Python: {sys.version}')\n",
    "\n",
    "import os\n",
    "# See the docs for the OS module: https://docs.python.org/3.7/library/os.html\n",
    "\n",
    "# Print the current process ID\n",
    "print(f'Process ID: {os.getpid()}')\n",
    "\n",
    "# Print the current working directory (cwd):\n",
    "# print(f'CWD: {os.getcwd()}')\n",
    "\n",
    "# Print out your machine's login name\n",
    "# print(f'Name: {os.getlogin()}')"
   ]
  },
  {
   "cell_type": "markdown",
   "metadata": {},
   "source": [
    "#### 04_printing.py"
   ]
  },
  {
   "cell_type": "code",
   "execution_count": 24,
   "metadata": {},
   "outputs": [
    {
     "name": "stdout",
     "output_type": "stream",
     "text": [
      "x is 10, y is 2.25, z is \"I like turtles!\"\n",
      "x is 10, y is 2.25, z is \"I like turtles!\"\n",
      "x is 10, y is 2.25, z is \"I like turtles!\"\n"
     ]
    }
   ],
   "source": [
    "\"\"\"\n",
    "Python provides a number of ways to perform printing. Research\n",
    "how to print using the printf operator, the `format` string \n",
    "method, and by using f-strings.\n",
    "\"\"\"\n",
    "\n",
    "x = 10\n",
    "y = 2.24552\n",
    "z = \"I like turtles!\"\n",
    "\n",
    "# Using the printf operator (%), print the following feeding in the values of x,\n",
    "# y, and z:\n",
    "# x is 10, y is 2.25, z is \"I like turtles!\"\n",
    "print('x is %d, y is %4.2f, z is \"%s\"' % (x, y, z))\n",
    "\n",
    "# Use the 'format' string method to print the same thing\n",
    "print('x is {}, y is {:.2f}, z is \"{}\"'.format(x, y, z))\n",
    "\n",
    "# Finally, print the same thing using an f-string\n",
    "print(f'x is {x}, y is {y:.2f}, z is \"{z}\"')"
   ]
  },
  {
   "cell_type": "markdown",
   "metadata": {},
   "source": [
    "#### 05_lists.py"
   ]
  },
  {
   "cell_type": "code",
   "execution_count": 23,
   "metadata": {},
   "outputs": [
    {
     "name": "stdout",
     "output_type": "stream",
     "text": [
      "[1, 2, 3, 4]\n",
      "[1, 2, 3, 4, 8, 9, 10]\n",
      "[1, 2, 3, 4, 9, 10]\n",
      "[1, 2, 3, 4, 9, 99, 10]\n",
      "7\n",
      "[1000, 2000, 3000, 4000, 9000, 99000, 10000]\n"
     ]
    }
   ],
   "source": [
    "# For the exercise, look up the methods and functions that are available for use\n",
    "# with Python lists.\n",
    "\n",
    "x = [1, 2, 3]\n",
    "y = [8, 9, 10]\n",
    "\n",
    "# For the following, DO NOT USE AN ASSIGNMENT (=).\n",
    "\n",
    "# Change x so that it is [1, 2, 3, 4]\n",
    "x.append(4)\n",
    "print(x)\n",
    "\n",
    "# Using y, change x so that it is [1, 2, 3, 4, 8, 9, 10]\n",
    "x.extend(y)\n",
    "print(x)\n",
    "\n",
    "# Change x so that it is [1, 2, 3, 4, 9, 10]\n",
    "x.remove(8)\n",
    "print(x)\n",
    "\n",
    "# Change x so that it is [1, 2, 3, 4, 9, 99, 10]\n",
    "x.insert(5, 99)\n",
    "print(x)\n",
    "\n",
    "# Print the length of list x\n",
    "print(len(x))\n",
    "\n",
    "# Print all the values in x multiplied by 1000\n",
    "print([i * 1000 for i in x])"
   ]
  },
  {
   "cell_type": "markdown",
   "metadata": {},
   "source": [
    "#### 06_tuples.py"
   ]
  },
  {
   "cell_type": "code",
   "execution_count": 146,
   "metadata": {},
   "outputs": [
    {
     "name": "stdout",
     "output_type": "stream",
     "text": [
      "Distance is: 66.94\n",
      "1\n",
      "2\n",
      "5\n",
      "7\n",
      "99\n",
      "1\n"
     ]
    }
   ],
   "source": [
    "\"\"\"\n",
    "Python tuples are sort of like lists, except they're immutable and\n",
    "are usually used to hold heterogenous data, as opposed to lists\n",
    "which are typically used to hold homogenous data. Tuples use\n",
    "parens instead of square brackets.\n",
    "\n",
    "More specifically, tuples are faster than lists. If you're looking\n",
    "to just define a constant set of values and that set of values\n",
    "never needs to be mutated, use a tuple instead of a list.\n",
    "\n",
    "Additionally, your code will be safer if you opt to \"write-protect\"\n",
    "data that does not need to be changed. Tuples enforce immutability\n",
    "automatically.\n",
    "\"\"\"\n",
    "\n",
    "# Example:\n",
    "\n",
    "import math\n",
    "\n",
    "def dist(a, b):\n",
    "    \"\"\"Compute the distance between two x,y points.\"\"\"\n",
    "    x0, y0 = a  # Destructuring assignment\n",
    "    x1, y1 = b\n",
    "\n",
    "    return math.sqrt((x1 - x0)**2 + (y1 - y0)**2)\n",
    "\n",
    "a = (2, 7)   # <-- x,y coordinates stored in tuples\n",
    "b = (-14, 72)\n",
    "\n",
    "# Prints \"Distance is 66.94\"\n",
    "print(\"Distance is: {:.2f}\".format(dist(a, b)))\n",
    "\n",
    "# Write a function `print_tuple` that prints all the values in a tuple\n",
    "\n",
    "def print_tuple(tup):\n",
    "    for i in tup:\n",
    "        print(i)\n",
    "\n",
    "t = (1, 2, 5, 7, 99)\n",
    "\n",
    "print_tuple(t)  # Prints 1 2 5 7 99, one per line\n",
    "\n",
    "# Declare a tuple of 1 element then print it\n",
    "u = (1,)  # What needs to be added to make this work?\n",
    "\n",
    "print_tuple(u)"
   ]
  },
  {
   "cell_type": "markdown",
   "metadata": {},
   "source": [
    "#### 07_slices.py"
   ]
  },
  {
   "cell_type": "code",
   "execution_count": 164,
   "metadata": {},
   "outputs": [
    {
     "name": "stdout",
     "output_type": "stream",
     "text": [
      "4\n",
      "9\n",
      "[7, 9, 6]\n",
      "[1, 7]\n",
      "[4, 1, 7, 9, 6]\n",
      "[2, 4, 1, 7, 9]\n",
      "world\n"
     ]
    }
   ],
   "source": [
    "\"\"\"\n",
    "Python exposes a terse and intuitive syntax for performing \n",
    "slicing on lists and strings. This makes it easy to reference\n",
    "only a portion of a list or string. \n",
    "\n",
    "This Stack Overflow answer provides a brief but thorough\n",
    "overview: https://stackoverflow.com/a/509295\n",
    "\n",
    "Use Python's slice syntax to achieve the following:\n",
    "\"\"\"\n",
    "\n",
    "a = [2, 4, 1, 7, 9, 6]\n",
    "\n",
    "# Output the second element: 4:\n",
    "print(a[1])\n",
    "\n",
    "# Output the second-to-last element: 9\n",
    "print(a[-2])\n",
    "\n",
    "# Output the last three elements in the array: [7, 9, 6]\n",
    "print(a[3:])\n",
    "\n",
    "# Output the two middle elements in the array: [1, 7]\n",
    "print(a[2:4])\n",
    "\n",
    "# Output every element except the first one: [4, 1, 7, 9, 6]\n",
    "print(a[1:])\n",
    "\n",
    "# Output every element except the last one: [2, 4, 1, 7, 9]\n",
    "print(a[:-1])\n",
    "\n",
    "# For string s...\n",
    "\n",
    "s = \"Hello, world!\"\n",
    "\n",
    "# Output just the 8th-12th characters: \"world\"\n",
    "print(s[7:12])"
   ]
  },
  {
   "cell_type": "markdown",
   "metadata": {},
   "source": [
    "#### 08_comprehensions.py"
   ]
  },
  {
   "cell_type": "code",
   "execution_count": 174,
   "metadata": {},
   "outputs": [
    {
     "name": "stdout",
     "output_type": "stream",
     "text": [
      "[1, 2, 3, 4, 5]\n",
      "[0, 1, 8, 27, 64, 125, 216, 343, 512, 729]\n",
      "['FOO', 'BAR', 'BAZ']\n"
     ]
    },
    {
     "name": "stdin",
     "output_type": "stream",
     "text": [
      "Enter comma-separated numbers:  1,2,3,4,5,6\n"
     ]
    },
    {
     "name": "stdout",
     "output_type": "stream",
     "text": [
      "['2', '4', '6']\n"
     ]
    }
   ],
   "source": [
    "\"\"\"\n",
    "List comprehensions are one cool and unique feature of Python.\n",
    "They essentially act as a terse and concise way of initializing\n",
    "and populating a list given some expression that specifies how\n",
    "the list should be populated. \n",
    "\n",
    "Take a look at https://docs.python.org/3/tutorial/datastructures.html#list-comprehensions\n",
    "for more info regarding list comprehensions.\n",
    "\"\"\"\n",
    "\n",
    "# Write a list comprehension to produce the array [1, 2, 3, 4, 5]\n",
    "\n",
    "y = [i+1 for i in range(5)]\n",
    "\n",
    "print (y)\n",
    "\n",
    "# Write a list comprehension to produce the cubes of the numbers 0-9:\n",
    "# [0, 1, 8, 27, 64, 125, 216, 343, 512, 729]\n",
    "\n",
    "y = [i**3 for i in range(10)]\n",
    "\n",
    "print(y)\n",
    "\n",
    "# Write a list comprehension to produce the uppercase version of all the\n",
    "# elements in array a. Hint: \"foo\".upper() is \"FOO\".\n",
    "\n",
    "a = [\"foo\", \"bar\", \"baz\"]\n",
    "\n",
    "y = [i.upper() for i in a]\n",
    "\n",
    "print(y)\n",
    "\n",
    "# Use a list comprehension to create a list containing only the _even_ elements\n",
    "# the user entered into list x.\n",
    "\n",
    "x = input(\"Enter comma-separated numbers: \").split(',')\n",
    "\n",
    "# What do you need between the square brackets to make it work?\n",
    "y = [i for i in x if int(i) % 2 == 0]\n",
    "\n",
    "print(y)"
   ]
  },
  {
   "cell_type": "markdown",
   "metadata": {},
   "source": [
    "#### 09_dictionaries.py"
   ]
  },
  {
   "cell_type": "code",
   "execution_count": 200,
   "metadata": {},
   "outputs": [
    {
     "name": "stdout",
     "output_type": "stream",
     "text": [
      "lat: 43\n",
      "lon: -130\n",
      "name: not a real place\n",
      "lat: 41\n",
      "lon: -123\n",
      "name: another place\n",
      "lat: 43\n",
      "lon: -122\n",
      "name: a third place\n",
      "lat: 42\n",
      "lon: -142\n",
      "name: new\n"
     ]
    }
   ],
   "source": [
    "\"\"\"\n",
    "Dictionaries are Python's implementation of associative arrays.\n",
    "There's not much different with Python's version compared to what\n",
    "you'll find in other languages (though you can also initialize and\n",
    "populate dictionaries using comprehensions just like you can with\n",
    "lists!).\n",
    "\n",
    "The docs can be found here:\n",
    "https://docs.python.org/3/tutorial/datastructures.html#dictionaries\n",
    "\n",
    "For this exercise, you have a list of dictionaries. Each dictionary\n",
    "has the following keys:\n",
    " - lat: a signed integer representing a latitude value\n",
    " - lon: a signed integer representing a longitude value\n",
    " - name: a name string for this location\n",
    "\"\"\"\n",
    "\n",
    "waypoints = [\n",
    "    {\n",
    "        \"lat\": 43,\n",
    "        \"lon\": -121,\n",
    "        \"name\": \"a place\"\n",
    "    },\n",
    "    {\n",
    "        \"lat\": 41,\n",
    "        \"lon\": -123,\n",
    "        \"name\": \"another place\"\n",
    "    },\n",
    "    {\n",
    "        \"lat\": 43,\n",
    "        \"lon\": -122,\n",
    "        \"name\": \"a third place\"\n",
    "    }\n",
    "]\n",
    "\n",
    "# Add a new waypoint to the list\n",
    "waypoints.append({\"lat\": 42, \"lon\": -142, \"name\": \"new\"})\n",
    "\n",
    "# Modify the dictionary with name \"a place\" such that its longitude\n",
    "# value is -130 and change its name to \"not a real place\"\n",
    "# Note: It's okay to access the dictionary using bracket notation on the\n",
    "# waypoints list.\n",
    "waypoints[0][\"lon\"] = -130\n",
    "waypoints[0][\"name\"] = \"not a real place\"\n",
    "\n",
    "# Write a loop that prints out all the field values for all the waypoints\n",
    "for field in waypoints:\n",
    "    for key in field:\n",
    "        print(f'{key}: {field[key]}')"
   ]
  },
  {
   "cell_type": "markdown",
   "metadata": {},
   "source": [
    "#### 10_functions.py"
   ]
  },
  {
   "cell_type": "code",
   "execution_count": 205,
   "metadata": {},
   "outputs": [
    {
     "name": "stdin",
     "output_type": "stream",
     "text": [
      "Enter a number:  3\n"
     ]
    },
    {
     "name": "stdout",
     "output_type": "stream",
     "text": [
      "3 is Odd\n"
     ]
    }
   ],
   "source": [
    "# Write a function is_even that will return true if the passed-in number is even.\n",
    "\n",
    "def is_even(x):\n",
    "    if x % 2 == 0:\n",
    "        print(f'{x} is Even!')\n",
    "    else:\n",
    "        print(f'{x} is Odd')\n",
    "\n",
    "# Read a number from the keyboard\n",
    "num = input(\"Enter a number: \")\n",
    "num = int(num)\n",
    "\n",
    "# Print out \"Even!\" if the number is even. Otherwise print \"Odd\"\n",
    "\n",
    "is_even(num)"
   ]
  },
  {
   "cell_type": "markdown",
   "metadata": {},
   "source": [
    "#### 11_args.py"
   ]
  },
  {
   "cell_type": "code",
   "execution_count": 216,
   "metadata": {},
   "outputs": [
    {
     "name": "stdout",
     "output_type": "stream",
     "text": [
      "3\n",
      "1\n",
      "4\n",
      "-7\n",
      "33\n",
      "22\n",
      "3\n",
      "9\n",
      "key: a, value: 12\n",
      "key: b, value: 30\n",
      "key: city, value: Berkeley\n",
      "key: population, value: 121240\n",
      "key: founded, value: March 23, 1868\n",
      "key: monster, value: goblin\n",
      "key: hp, value: 3\n"
     ]
    }
   ],
   "source": [
    "# Experiment with positional arguments, arbitrary arguments, and keyword\n",
    "# arguments.\n",
    "\n",
    "# Write a function f1 that takes two integer positional arguments and returns\n",
    "# the sum. This is what you'd consider to be a regular, normal function.\n",
    "\n",
    "def f1(x, y):\n",
    "    return x + y\n",
    "\n",
    "print(f1(1, 2))\n",
    "\n",
    "# Write a function f2 that takes any number of integer arguments and returns the\n",
    "# sum.\n",
    "# Note: Google for \"python arbitrary arguments\" and look for \"*args\"\n",
    "\n",
    "def f2(*args):\n",
    "    total = 0\n",
    "    for i in args:\n",
    "        total += i \n",
    "    return total\n",
    "\n",
    "print(f2(1))                    # Should print 1\n",
    "print(f2(1, 3))                 # Should print 4\n",
    "print(f2(1, 4, -12))            # Should print -7\n",
    "print(f2(7, 9, 1, 3, 4, 9, 0))  # Should print 33\n",
    "\n",
    "a = [7, 6, 5, 4]\n",
    "\n",
    "# How do you have to modify the f2 call below to make this work?\n",
    "print(f2(*a))    # Should print 22\n",
    "\n",
    "# Write a function f3 that accepts either one or two arguments. If one argument,\n",
    "# it returns that value plus 1. If two arguments, it returns the sum of the\n",
    "# arguments.\n",
    "# Note: Google \"python default arguments\" for a hint.\n",
    "\n",
    "def f3(x, y=1):\n",
    "    return x + y \n",
    "\n",
    "print(f3(1, 2))  # Should print 3\n",
    "print(f3(8))     # Should print 9\n",
    "\n",
    "# Write a function f4 that accepts an arbitrary number of keyword arguments and\n",
    "# prints out the keys and values like so:\n",
    "#\n",
    "# key: foo, value: bar\n",
    "# key: baz, value: 12\n",
    "#\n",
    "# Note: Google \"python keyword arguments\".\n",
    "\n",
    "def f4(**kwargs):\n",
    "    for key, value in kwargs.items():\n",
    "        print(f\"key: {key}, value: {value}\")\n",
    "\n",
    "# Should print\n",
    "# key: a, value: 12\n",
    "# key: b, value: 30\n",
    "f4(a=12, b=30)\n",
    "\n",
    "# Should print\n",
    "# key: city, value: Berkeley\n",
    "# key: population, value: 121240\n",
    "# key: founded, value: \"March 23, 1868\"\n",
    "f4(city=\"Berkeley\", population=121240, founded=\"March 23, 1868\")\n",
    "\n",
    "d = {\n",
    "    \"monster\": \"goblin\",\n",
    "    \"hp\": 3\n",
    "}\n",
    "\n",
    "# How do you have to modify the f4 call below to make this work?\n",
    "f4(**d)"
   ]
  },
  {
   "cell_type": "markdown",
   "metadata": {},
   "source": [
    "#### 12_scopes.py"
   ]
  },
  {
   "cell_type": "code",
   "execution_count": 221,
   "metadata": {},
   "outputs": [
    {
     "name": "stdout",
     "output_type": "stream",
     "text": [
      "99\n",
      "999\n"
     ]
    }
   ],
   "source": [
    "# Experiment with scopes in Python.\n",
    "# Good reading: https://www.programiz.com/python-programming/global-local-nonlocal-variables\n",
    "\n",
    "# When you use a variable in a function, it's local in scope to the function.\n",
    "x = 12\n",
    "\n",
    "def change_x():\n",
    "    global x\n",
    "    x = 99\n",
    "\n",
    "change_x()\n",
    "\n",
    "# This prints 12. What do we have to modify in change_x() to get it to print 99?\n",
    "print(x)\n",
    "\n",
    "# This nested function has a similar problem.\n",
    "\n",
    "def outer():\n",
    "    y = 120\n",
    "\n",
    "    def inner():\n",
    "        nonlocal y\n",
    "        y = 999\n",
    "\n",
    "    inner()\n",
    "\n",
    "    # This prints 120. What do we have to change in inner() to get it to print\n",
    "    # 999?\n",
    "    # Note: Google \"python nested function scope\".\n",
    "    print(y)\n",
    "\n",
    "outer()"
   ]
  },
  {
   "cell_type": "markdown",
   "metadata": {},
   "source": [
    "#### 13_file_io.py"
   ]
  },
  {
   "cell_type": "code",
   "execution_count": 11,
   "metadata": {},
   "outputs": [
    {
     "name": "stdout",
     "output_type": "stream",
     "text": [
      "Do you bite your thumb at us, sir?\n",
      "I do bite my thumb, sir.\n",
      "Do you bite your thumb at us, sir?\n",
      "No, sir. I do not bite my thumb at you, sir, but I bite my thumb, sir.\n",
      "Do you quarrel, sir?\n",
      "Quarrel, sir? No, sir.\n",
      "How much foo\n",
      "would a foobar bar\n",
      "if a foobar could bar foo?\n"
     ]
    }
   ],
   "source": [
    "\"\"\"\n",
    "Python makes performing file I/O simple. Take a look\n",
    "at how to read and write to files here:\n",
    "\n",
    "https://docs.python.org/3/tutorial/inputoutput.html#reading-and-writing-files\n",
    "\"\"\"\n",
    "\n",
    "# Open up the \"foo.txt\" file (which already exists) for reading\n",
    "# Print all the contents of the file, then close the file\n",
    "# Note: pay close attention to your current directory when trying to open \"foo.txt\"\n",
    "\n",
    "f = open('src/foo.txt', 'r')\n",
    "print(f.read())\n",
    "f.close()\n",
    "\n",
    "# Open up a file called \"bar.txt\" (which doesn't exist yet) for\n",
    "# writing. Write three lines of arbitrary content to that file,\n",
    "# then close the file. Open up \"bar.txt\" and inspect it to make\n",
    "# sure that it contains what you expect it to contain\n",
    "\n",
    "b = open('src/bar.txt', 'w')\n",
    "b.write('How much foo\\nwould a foobar bar\\nif a foobar could bar foo?')\n",
    "b.close()\n",
    "\n",
    "b = open('src/bar.txt', 'r')\n",
    "print(b.read())\n",
    "b.close()"
   ]
  },
  {
   "cell_type": "markdown",
   "metadata": {},
   "source": [
    "#### 14_cal.py"
   ]
  },
  {
   "cell_type": "code",
   "execution_count": 1,
   "metadata": {},
   "outputs": [
    {
     "name": "stdout",
     "output_type": "stream",
     "text": [
      "Input an integer for month, and year [mm] [yyyy]\n"
     ]
    }
   ],
   "source": [
    "\"\"\"\n",
    "The Python standard library's 'calendar' module allows you to\n",
    "render a calendar to your terminal.\n",
    "https://docs.python.org/3.6/library/calendar.html\n",
    "\n",
    "Write a program that accepts user input of the form\n",
    "  `14_cal.py [month] [year]`\n",
    "and does the following:\n",
    " - If the user doesn't specify any input, your program should\n",
    "   print the calendar for the current month. The 'datetime'\n",
    "   module may be helpful for this.\n",
    " - If the user specifies one argument, assume they passed in a\n",
    "   month and render the calendar for that month of the current year.\n",
    " - If the user specifies two arguments, assume they passed in\n",
    "   both the month and the year. Render the calendar for that\n",
    "   month and year.\n",
    " - Otherwise, print a usage statement to the terminal indicating\n",
    "   the format that your program expects arguments to be given.\n",
    "   Then exit the program.\n",
    "\n",
    "Note: the user should provide argument input (in the initial call to run the file) and not \n",
    "prompted input. Also, the brackets around year are to denote that the argument is\n",
    "optional, as this is a common convention in documentation.\n",
    "\n",
    "This would mean that from the command line you would call `python3 14_cal.py 4 2015` to \n",
    "print out a calendar for April in 2015, but if you omit either the year or both values, \n",
    "it should use today’s date to get the month and year.\n",
    "\"\"\"\n",
    "\n",
    "import sys\n",
    "import calendar\n",
    "from datetime import datetime\n",
    "\n",
    "inputMonth = datetime.today().month\n",
    "inputYear = datetime.today().year\n",
    "\n",
    "cal = calendar.TextCalendar(calendar.SUNDAY)\n",
    "\n",
    "if len(sys.argv) == 1:\n",
    "    print(cal.formatmonth(inputYear, inputMonth))\n",
    "\n",
    "elif len(sys.argv) == 2:\n",
    "    try:\n",
    "        month = int(sys.argv[1])\n",
    "        print(cal.formatmonth(inputYear, month))\n",
    "    except ValueError:\n",
    "        print(\"Input an integer for month [mm]\")\n",
    "\n",
    "elif len(sys.argv) == 3:\n",
    "    try:\n",
    "        month = int(sys.argv[1])\n",
    "        year = int(sys.argv[2])\n",
    "        print(cal.formatmonth(year, month))\n",
    "    except ValueError:\n",
    "        print(\"Input an integer for month, and year [mm] [yyyy]\")\n",
    "\n",
    "else:\n",
    "    print(\"404\")"
   ]
  },
  {
   "cell_type": "markdown",
   "metadata": {},
   "source": [
    "#### 15_classes.py"
   ]
  },
  {
   "cell_type": "code",
   "execution_count": 22,
   "metadata": {},
   "outputs": [
    {
     "name": "stdout",
     "output_type": "stream",
     "text": [
      "Catacombs, 41.70505, -121.51521\n",
      "Newberry Views, 1.5, 2, 44.052137, -121.41556\n"
     ]
    }
   ],
   "source": [
    "# Make a class LatLon that can be passed parameters `lat` and `lon` to the\n",
    "# constructor\n",
    "\n",
    "class LatLon:\n",
    "    def __init__(self, lat, lon):\n",
    "        self.lat = lat\n",
    "        self.lon = lon\n",
    "\n",
    "# Make a class Waypoint that can be passed parameters `name`, `lat`, and `lon` to the\n",
    "# constructor. It should inherit from LatLon. Look up the `super` method.\n",
    "\n",
    "class Waypoint(LatLon):\n",
    "    def __init__(self, name, lat, lon):\n",
    "        super().__init__(lat, lon)\n",
    "        self.name = name\n",
    "    \n",
    "    def __str__(self):\n",
    "        return '%s, %s, %s' % (self.name, self.lat, self.lon)\n",
    "\n",
    "# Make a class Geocache that can be passed parameters `name`, `difficulty`,\n",
    "# `size`, `lat`, and `lon` to the constructor. What should it inherit from?\n",
    "\n",
    "class Geocache(Waypoint):\n",
    "    def __init__(self, name, difficulty, size, lat, lon):\n",
    "        super().__init__(name, lat, lon)\n",
    "        self.difficulty = difficulty\n",
    "        self.size = size\n",
    "\n",
    "    def __str__(self):\n",
    "        return '%s, %s, %s, %s, %s' % (self.name, self.difficulty, self.size, self.lat, self.lon)\n",
    "\n",
    "# Make a new waypoint and print it out: \"Catacombs\", 41.70505, -121.51521\n",
    "\n",
    "waypoint = Waypoint(\"Catacombs\", 41.70505, -121.51521)\n",
    "\n",
    "# Without changing the following line, how can you make it print into something\n",
    "# more human-readable? Hint: Look up the `object.__str__` method\n",
    "print(waypoint)\n",
    "\n",
    "# Make a new geocache \"Newberry Views\", diff 1.5, size 2, 44.052137, -121.41556\n",
    "\n",
    "geocache = Geocache(\"Newberry Views\", 1.5, 2, 44.052137, -121.41556) \n",
    "\n",
    "# Print it--also make this print more nicely\n",
    "print(geocache)"
   ]
  }
 ],
 "metadata": {
  "kernelspec": {
   "display_name": "Python 3",
   "language": "python",
   "name": "python3"
  },
  "language_info": {
   "codemirror_mode": {
    "name": "ipython",
    "version": 3
   },
   "file_extension": ".py",
   "mimetype": "text/x-python",
   "name": "python",
   "nbconvert_exporter": "python",
   "pygments_lexer": "ipython3",
   "version": "3.7.6"
  }
 },
 "nbformat": 4,
 "nbformat_minor": 4
}
